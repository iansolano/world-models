{
 "cells": [
  {
   "cell_type": "markdown",
   "metadata": {},
   "source": [
    "# CarRacing-v0"
   ]
  },
  {
   "cell_type": "code",
   "execution_count": 25,
   "metadata": {},
   "outputs": [],
   "source": [
    "import numpy as np\n",
    "import os\n",
    "import json\n",
    "import tensorflow as tf\n",
    "import random\n",
    "from vae.vae import CVAE\n",
    "from controller import make_controller\n",
    "from env import make_env\n",
    "from utils import PARSER\n",
    "args = PARSER.parse_args(['--config_path', 'configs/carracing.config'])"
   ]
  },
  {
   "cell_type": "code",
   "execution_count": 26,
   "metadata": {},
   "outputs": [],
   "source": [
    "import matplotlib.pyplot as plt\n",
    "import matplotlib.animation\n",
    "%matplotlib inline\n",
    "np.set_printoptions(precision=4, edgeitems=6, linewidth=100, suppress=True)"
   ]
  },
  {
   "cell_type": "code",
   "execution_count": 27,
   "metadata": {},
   "outputs": [],
   "source": [
    "os.environ[\"CUDA_VISIBLE_DEVICES\"]=\"-1\" # disable GPU\n",
    "\n",
    "DATA_DIR = \"results/{}/{}/record\".format(args.exp_name, args.env_name)\n",
    "model_path_name = \"results/{}/{}/tf_vae\".format(args.exp_name, args.env_name)"
   ]
  },
  {
   "cell_type": "code",
   "execution_count": 28,
   "metadata": {},
   "outputs": [],
   "source": [
    "filelist = os.listdir(DATA_DIR)"
   ]
  },
  {
   "cell_type": "code",
   "execution_count": 29,
   "metadata": {},
   "outputs": [],
   "source": [
    "obs = np.load(os.path.join(DATA_DIR, random.choice(filelist)))[\"obs\"]\n",
    "obs = obs.astype(np.float32)/255.0"
   ]
  },
  {
   "cell_type": "code",
   "execution_count": 30,
   "metadata": {},
   "outputs": [
    {
     "data": {
      "text/plain": [
       "(1000, 64, 64, 3)"
      ]
     },
     "execution_count": 30,
     "metadata": {},
     "output_type": "execute_result"
    }
   ],
   "source": [
    "obs.shape"
   ]
  },
  {
   "cell_type": "code",
   "execution_count": 31,
   "metadata": {},
   "outputs": [],
   "source": [
    "frame = random.choice(obs).reshape(1, 64, 64, 3)"
   ]
  },
  {
   "cell_type": "markdown",
   "metadata": {},
   "source": [
    "# Simulate and Store for Animation"
   ]
  },
  {
   "cell_type": "code",
   "execution_count": 32,
   "metadata": {},
   "outputs": [],
   "source": [
    "def sim(c, env, vae, is_true_env=False, z_size=64, max_ep_len=1000):\n",
    "    o = env.reset()\n",
    "    r_list = []\n",
    "    total_r_list = []\n",
    "    true_frames = []\n",
    "    if is_true_env:\n",
    "        o, frame = o\n",
    "        true_frames.append(tf.squeeze(frame))\n",
    "        z = np.expand_dims(o[:z_size], axis=0)\n",
    "        reconstruct = vae.decode(z)\n",
    "    else:\n",
    "        z = np.expand_dims(o[:z_size], axis=0)\n",
    "        reconstruct = vae.decode(z)\n",
    "    decoded_frames = [tf.squeeze(reconstruct)]\n",
    "    \n",
    "    for _ in range(max_ep_len): # episode length is a thousand\n",
    "        a = c.get_action(o)\n",
    "        o, r, d, _ = env.step(a)\n",
    "        r_list.append(r)\n",
    "        total_r_list.append(sum(r_list))\n",
    "        if is_true_env:\n",
    "            env.render('rgb_array')\n",
    "            o, frame = o\n",
    "            true_frames.append(tf.squeeze(frame))\n",
    "            z = np.expand_dims(o[:z_size], axis=0)\n",
    "            reconstruct = vae.decode(z)\n",
    "        else:\n",
    "            z = np.expand_dims(o[:z_size], axis=0)\n",
    "            reconstruct = vae.decode(z)\n",
    "        decoded_frames.append(tf.squeeze(reconstruct))\n",
    "        \n",
    "        if d:\n",
    "            break\n",
    "    return decoded_frames, true_frames, r_list, total_r_list"
   ]
  },
  {
   "cell_type": "code",
   "execution_count": 33,
   "metadata": {},
   "outputs": [
    {
     "name": "stdout",
     "output_type": "stream",
     "text": [
      "WARNING:tensorflow:Inconsistent references when loading the checkpoint into this object graph. Either the Trackable object references in the Python program have changed in an incompatible way, or the checkpoint was generated in an incompatible program.\n",
      "\n",
      "Two checkpoint references resolved to different objects (<tensorflow.python.keras.layers.convolutional.Conv2D object at 0x7f6a05c96f98> and <tensorflow.python.keras.layers.convolutional.Conv2D object at 0x7f6a05c43400>).\n",
      "WARNING:tensorflow:Inconsistent references when loading the checkpoint into this object graph. Either the Trackable object references in the Python program have changed in an incompatible way, or the checkpoint was generated in an incompatible program.\n",
      "\n",
      "Two checkpoint references resolved to different objects (<tensorflow.python.keras.layers.convolutional.Conv2D object at 0x7f6a05c43400> and <tensorflow.python.keras.layers.convolutional.Conv2D object at 0x7f6a05c43198>).\n",
      "WARNING:tensorflow:Inconsistent references when loading the checkpoint into this object graph. Either the Trackable object references in the Python program have changed in an incompatible way, or the checkpoint was generated in an incompatible program.\n",
      "\n",
      "Two checkpoint references resolved to different objects (<tensorflow.python.keras.layers.convolutional.Conv2D object at 0x7f6a05c43198> and <tensorflow.python.keras.layers.convolutional.Conv2D object at 0x7f6a05cb16d8>).\n",
      "WARNING:tensorflow:Inconsistent references when loading the checkpoint into this object graph. Either the Trackable object references in the Python program have changed in an incompatible way, or the checkpoint was generated in an incompatible program.\n",
      "\n",
      "Two checkpoint references resolved to different objects (<tensorflow.python.keras.layers.convolutional.Conv2D object at 0x7f6a05cb16d8> and <tensorflow.python.keras.layers.core.Flatten object at 0x7f6a05cb9438>).\n",
      "WARNING:tensorflow:Inconsistent references when loading the checkpoint into this object graph. Either the Trackable object references in the Python program have changed in an incompatible way, or the checkpoint was generated in an incompatible program.\n",
      "\n",
      "Two checkpoint references resolved to different objects (<tensorflow.python.keras.layers.core.Dense object at 0x7f6a05c504a8> and <tensorflow.python.keras.layers.core.Reshape object at 0x7f6a05d00d68>).\n",
      "WARNING:tensorflow:Inconsistent references when loading the checkpoint into this object graph. Either the Trackable object references in the Python program have changed in an incompatible way, or the checkpoint was generated in an incompatible program.\n",
      "\n",
      "Two checkpoint references resolved to different objects (<tensorflow.python.keras.layers.convolutional.Conv2DTranspose object at 0x7f6a05cf8da0> and <tensorflow.python.keras.layers.convolutional.Conv2DTranspose object at 0x7f6a05f3cfd0>).\n",
      "WARNING:tensorflow:Inconsistent references when loading the checkpoint into this object graph. Either the Trackable object references in the Python program have changed in an incompatible way, or the checkpoint was generated in an incompatible program.\n",
      "\n",
      "Two checkpoint references resolved to different objects (<tensorflow.python.keras.layers.convolutional.Conv2DTranspose object at 0x7f6a05f3cfd0> and <tensorflow.python.keras.layers.convolutional.Conv2DTranspose object at 0x7f6a05f3cf28>).\n",
      "WARNING:tensorflow:Inconsistent references when loading the checkpoint into this object graph. Either the Trackable object references in the Python program have changed in an incompatible way, or the checkpoint was generated in an incompatible program.\n",
      "\n",
      "Two checkpoint references resolved to different objects (<tensorflow.python.keras.layers.convolutional.Conv2DTranspose object at 0x7f6a05f3cf28> and <tensorflow.python.keras.layers.convolutional.Conv2DTranspose object at 0x7f6a05f5ef28>).\n",
      "WARNING:tensorflow:Inconsistent references when loading the checkpoint into this object graph. Either the Trackable object references in the Python program have changed in an incompatible way, or the checkpoint was generated in an incompatible program.\n",
      "\n",
      "Two checkpoint references resolved to different objects (<tensorflow.python.keras.layers.convolutional.Conv2DTranspose object at 0x7f6a05cf8da0> and <tensorflow.python.keras.layers.core.Reshape object at 0x7f6a05d00d68>).\n"
     ]
    }
   ],
   "source": [
    "vae = CVAE(args)\n",
    "\n",
    "vae.set_weights(tf.keras.models.load_model(model_path_name, compile=False).get_weights())"
   ]
  },
  {
   "cell_type": "code",
   "execution_count": 34,
   "metadata": {},
   "outputs": [
    {
     "data": {
      "image/png": "[encoded data removed]",
      "text/plain": [
       "<Figure size 432x288 with 1 Axes>"
      ]
     },
     "metadata": {
      "needs_background": "light"
     },
     "output_type": "display_data"
    }
   ],
   "source": [
    "%matplotlib inline\n",
    "# show recorded frame that will be fed into the input of VAE\n",
    "plt.imshow(frame[0])\n",
    "plt.show()"
   ]
  },
  {
   "cell_type": "code",
   "execution_count": 35,
   "metadata": {},
   "outputs": [
    {
     "name": "stdout",
     "output_type": "stream",
     "text": [
      "tf.Tensor(\n",
      "[-0.7689  1.0077  0.8579  0.181   1.1044  0.2689  0.7899 -0.0133 -0.7203  1.1184 -0.3693  0.4563\n",
      " -1.4311  2.1303  0.1423  0.7457  0.7023  0.2201  0.6683 -1.5326  0.1265 -0.3237  0.3994 -0.5313\n",
      " -0.0547 -0.3562 -1.3314  0.1546 -1.2871  0.0344  0.5641 -0.7688], shape=(32,), dtype=float32)\n"
     ]
    }
   ],
   "source": [
    "batch_z = vae.encode(frame)\n",
    "print(batch_z[0]) # print out sampled z\n",
    "reconstruct = vae.decode(batch_z)"
   ]
  },
  {
   "cell_type": "code",
   "execution_count": 36,
   "metadata": {},
   "outputs": [
    {
     "data": {
      "image/png": "[encoded data removed]",
      "text/plain": [
       "<Figure size 432x288 with 1 Axes>"
      ]
     },
     "metadata": {
      "needs_background": "light"
     },
     "output_type": "display_data"
    }
   ],
   "source": [
    "%matplotlib inline\n",
    "# show reconstruction\n",
    "plt.imshow(reconstruct[0])\n",
    "plt.show()"
   ]
  },
  {
   "cell_type": "markdown",
   "metadata": {},
   "source": [
    "## Dream Samples"
   ]
  },
  {
   "cell_type": "code",
   "execution_count": 37,
   "metadata": {},
   "outputs": [
    {
     "data": {
      "image/png": "[encoded data removed]",
      "text/plain": [
       "<Figure size 432x288 with 1 Axes>"
      ]
     },
     "metadata": {
      "needs_background": "light"
     },
     "output_type": "display_data"
    }
   ],
   "source": [
    "%matplotlib inline\n",
    "batch_z = tf.random.normal((1, args.z_size)).numpy()\n",
    "reconstruct = vae.decode(batch_z)\n",
    "# show reconstruction\n",
    "plt.imshow(reconstruct[0])\n",
    "plt.show()"
   ]
  },
  {
   "cell_type": "markdown",
   "metadata": {},
   "source": [
    "## Return Plot for Controller"
   ]
  },
  {
   "cell_type": "code",
   "execution_count": 38,
   "metadata": {},
   "outputs": [
    {
     "name": "stdout",
     "output_type": "stream",
     "text": [
      "4\n"
     ]
    }
   ],
   "source": [
    "eager_filepath = os.path.join('results/{}/{}/log/{}.cma.16.4.eval_hist.json'.format(args.exp_name, args.env_name, args.env_name))\n",
    "og_filepath = os.path.join('results/og/log', 'carracing.cma.16.64.hist_best.json')\n",
    "with open(eager_filepath, 'r') as f:\n",
    "  eager_data = json.load(f)\n",
    "with open(og_filepath, 'r') as f:\n",
    "  og_data = json.load(f)\n",
    "\n",
    "eager_data = np.array(eager_data)\n",
    "og_data = np.array(og_data)\n",
    "\n",
    "eager_comparison_max = eager_data[-1, 0] # b/c we didnt run for 2k\n",
    "og_max_idx = np.sum(np.array(og_data[: ,0],dtype=np.float) <= eager_comparison_max)\n",
    "print(og_max_idx)\n",
    "\n",
    "og_data = np.array(og_data)[:og_max_idx]"
   ]
  },
  {
   "cell_type": "code",
   "execution_count": 39,
   "metadata": {},
   "outputs": [
    {
     "data": {
      "image/png": "[encoded data removed]",
      "text/plain": [
       "<Figure size 432x288 with 1 Axes>"
      ]
     },
     "metadata": {
      "needs_background": "light"
     },
     "output_type": "display_data"
    }
   ],
   "source": [
    "%matplotlib inline\n",
    "\n",
    "eager_x = eager_data[:, 0]\n",
    "eager_ret = eager_data[:, 1]\n",
    "eager_std = eager_data[:, 2]\n",
    "\n",
    "og_x = np.array(og_data[:, 0], dtype=np.float)\n",
    "og_ret = np.array(og_data[:, 5], dtype=np.float)\n",
    "# don't have access to standard deviation of the og evaluation\n",
    "\n",
    "plt.figure()\n",
    "plt.plot(eager_x, eager_ret)\n",
    "plt.fill_between(eager_x, eager_ret-eager_std, eager_ret+eager_std, alpha=0.2)\n",
    "plt.plot(og_x, og_ret)\n",
    "\n",
    "plt.title('CarRacing-v0')\n",
    "plt.ylabel('avg. episode reward')\n",
    "plt.xlabel('generation')\n",
    "plt.legend(['eager', 'D. Ha original']);"
   ]
  },
  {
   "cell_type": "code",
   "execution_count": 40,
   "metadata": {},
   "outputs": [
    {
     "name": "stdout",
     "output_type": "stream",
     "text": [
      "100 501.36725 93.57912624151284\n",
      "2000 868.0 511.0\n"
     ]
    }
   ],
   "source": [
    "eager_filepath = os.path.join('results/{}/{}/log/{}.cma.16.4.eval_hist.json'.format(args.exp_name, args.env_name, args.env_name))\n",
    "\n",
    "with open(eager_filepath, 'r') as f:\n",
    "  eager_data = json.load(f)\n",
    "eager_data = np.array(eager_data)\n",
    "\n",
    "eager_generation = int(eager_data[10, 0])\n",
    "eager_ret = eager_data[10, 1]\n",
    "eager_std = eager_data[10, 2]\n",
    "\n",
    "og_generation = 2000\n",
    "og_tau_1_ret = 868.0\n",
    "og_tau_1_std = 511.0\n",
    "\n",
    "print(eager_generation, eager_ret, eager_std)\n",
    "print(og_generation, og_tau_1_ret, og_tau_1_std)"
   ]
  },
  {
   "cell_type": "markdown",
   "metadata": {},
   "source": [
    "|  | generation | returns &nbsp;&nbsp;&nbsp;&nbsp;&nbsp;&nbsp;|\n",
    "|------|------|---------|\n",
    "|   OG WorldModels  | 2000 | $868 \\pm 511$ |\n",
    "|   Eager WorldModels  | 100 | $501 \\pm 94$ |"
   ]
  },
  {
   "cell_type": "code",
   "execution_count": 41,
   "metadata": {},
   "outputs": [],
   "source": [
    "import tensorflow as tf\n",
    "import tensorflow.keras as keras"
   ]
  },
  {
   "cell_type": "code",
   "execution_count": 42,
   "metadata": {},
   "outputs": [
    {
     "name": "stdout",
     "output_type": "stream",
     "text": [
      "WARNING:tensorflow:No training configuration found in the save file, so the model was *not* compiled. Compile it manually.\n"
     ]
    }
   ],
   "source": [
    "encdr = keras.models.load_model('./vae_gan/saved-models/E_training_0.h5')"
   ]
  },
  {
   "cell_type": "code",
   "execution_count": 43,
   "metadata": {},
   "outputs": [
    {
     "name": "stdout",
     "output_type": "stream",
     "text": [
      "WARNING:tensorflow:No training configuration found in the save file, so the model was *not* compiled. Compile it manually.\n"
     ]
    }
   ],
   "source": [
    "gen = keras.models.load_model('./vae_gan/saved-models/G_training_0.h5')"
   ]
  },
  {
   "cell_type": "code",
   "execution_count": 44,
   "metadata": {},
   "outputs": [
    {
     "name": "stdout",
     "output_type": "stream",
     "text": [
      "Model: \"model_1\"\n",
      "_________________________________________________________________\n",
      "Layer (type)                 Output Shape              Param #   \n",
      "=================================================================\n",
      "input_2 (InputLayer)         [(None, 512)]             0         \n",
      "_________________________________________________________________\n",
      "dense_3 (Dense)              (None, 16384)             8404992   \n",
      "_________________________________________________________________\n",
      "batch_normalization_4 (Batch (None, 16384)             65536     \n",
      "_________________________________________________________________\n",
      "leaky_re_lu_4 (LeakyReLU)    (None, 16384)             0         \n",
      "_________________________________________________________________\n",
      "reshape (Reshape)            (None, 8, 8, 256)         0         \n",
      "_________________________________________________________________\n",
      "conv2d_transpose (Conv2DTran (None, 16, 16, 256)       1638656   \n",
      "_________________________________________________________________\n",
      "batch_normalization_5 (Batch (None, 16, 16, 256)       1024      \n",
      "_________________________________________________________________\n",
      "leaky_re_lu_5 (LeakyReLU)    (None, 16, 16, 256)       0         \n",
      "_________________________________________________________________\n",
      "conv2d_transpose_1 (Conv2DTr (None, 32, 32, 128)       819328    \n",
      "_________________________________________________________________\n",
      "batch_normalization_6 (Batch (None, 32, 32, 128)       512       \n",
      "_________________________________________________________________\n",
      "leaky_re_lu_6 (LeakyReLU)    (None, 32, 32, 128)       0         \n",
      "_________________________________________________________________\n",
      "conv2d_transpose_2 (Conv2DTr (None, 64, 64, 32)        102432    \n",
      "_________________________________________________________________\n",
      "batch_normalization_7 (Batch (None, 64, 64, 32)        128       \n",
      "_________________________________________________________________\n",
      "leaky_re_lu_7 (LeakyReLU)    (None, 64, 64, 32)        0         \n",
      "_________________________________________________________________\n",
      "conv2d_3 (Conv2D)            (None, 64, 64, 3)         2403      \n",
      "_________________________________________________________________\n",
      "activation (Activation)      (None, 64, 64, 3)         0         \n",
      "=================================================================\n",
      "Total params: 11,035,011\n",
      "Trainable params: 11,001,411\n",
      "Non-trainable params: 33,600\n",
      "_________________________________________________________________\n"
     ]
    }
   ],
   "source": [
    "gen.summary()"
   ]
  },
  {
   "cell_type": "code",
   "execution_count": 45,
   "metadata": {},
   "outputs": [],
   "source": [
    "latent = encdr(frame[0][None,:,:,:])"
   ]
  },
  {
   "cell_type": "code",
   "execution_count": 46,
   "metadata": {},
   "outputs": [],
   "source": [
    "recon = gen(latent[0])"
   ]
  },
  {
   "cell_type": "code",
   "execution_count": 47,
   "metadata": {},
   "outputs": [
    {
     "data": {
      "image/png": "[encoded data removed]",
      "text/plain": [
       "<Figure size 432x288 with 1 Axes>"
      ]
     },
     "metadata": {
      "needs_background": "light"
     },
     "output_type": "display_data"
    }
   ],
   "source": [
    "plt.imshow(frame[0]);"
   ]
  },
  {
   "cell_type": "code",
   "execution_count": 48,
   "metadata": {},
   "outputs": [
    {
     "data": {
      "image/png": "[encoded data removed]",
      "text/plain": [
       "<Figure size 432x288 with 1 Axes>"
      ]
     },
     "metadata": {
      "needs_background": "light"
     },
     "output_type": "display_data"
    }
   ],
   "source": [
    "plt.imshow(recon[0]);"
   ]
  },
  {
   "cell_type": "code",
   "execution_count": null,
   "metadata": {},
   "outputs": [],
   "source": []
  }
 ],
 "metadata": {
  "kernelspec": {
   "display_name": "Python 3",
   "language": "python",
   "name": "python3"
  },
  "language_info": {
   "codemirror_mode": {
    "name": "ipython",
    "version": 3
   },
   "file_extension": ".py",
   "mimetype": "text/x-python",
   "name": "python",
   "nbconvert_exporter": "python",
   "pygments_lexer": "ipython3",
   "version": "3.6.9"
  }
 },
 "nbformat": 4,
 "nbformat_minor": 2
}
